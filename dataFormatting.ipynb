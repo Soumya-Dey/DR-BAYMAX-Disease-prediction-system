{
 "metadata": {
  "language_info": {
   "codemirror_mode": {
    "name": "ipython",
    "version": 3
   },
   "file_extension": ".py",
   "mimetype": "text/x-python",
   "name": "python",
   "nbconvert_exporter": "python",
   "pygments_lexer": "ipython3",
   "version": "3.8.5"
  },
  "orig_nbformat": 2,
  "kernelspec": {
   "name": "python385jvsc74a57bd00c8c35d18b2e61e8c6ab986293cb7aa9d3ec55f83c5c24bac5b8ca5ae8e22b5c",
   "display_name": "Python 3.8.5 64-bit ('base': conda)"
  }
 },
 "nbformat": 4,
 "nbformat_minor": 2,
 "cells": [
  {
   "cell_type": "code",
   "execution_count": 2,
   "metadata": {},
   "outputs": [],
   "source": [
    "import pandas as pd\n",
    "import numpy as np"
   ]
  },
  {
   "cell_type": "code",
   "execution_count": 47,
   "metadata": {},
   "outputs": [],
   "source": [
    "dataset = pd.read_csv('data/Health_dataset.csv', header= None)"
   ]
  },
  {
   "cell_type": "code",
   "execution_count": 48,
   "metadata": {},
   "outputs": [
    {
     "output_type": "execute_result",
     "data": {
      "text/plain": [
       "                 0           1                      2                      3   \\\n",
       "0           Disease   Symptom_1              Symptom_2              Symptom_3   \n",
       "1  Fungal infection     itching              skin_rash   nodal_skin_eruptions   \n",
       "2  Fungal infection   skin_rash   nodal_skin_eruptions    dischromic _patches   \n",
       "3  Fungal infection     itching   nodal_skin_eruptions    dischromic _patches   \n",
       "4  Fungal infection     itching              skin_rash    dischromic _patches   \n",
       "\n",
       "                     4          5          6          7          8   \\\n",
       "0             Symptom_4  Symptom_5  Symptom_6  Symptom_7  Symptom_8   \n",
       "1   dischromic _patches        NaN        NaN        NaN        NaN   \n",
       "2                   NaN        NaN        NaN        NaN        NaN   \n",
       "3                   NaN        NaN        NaN        NaN        NaN   \n",
       "4                   NaN        NaN        NaN        NaN        NaN   \n",
       "\n",
       "          9           10          11          12          13          14  \\\n",
       "0  Symptom_9  Symptom_10  Symptom_11  Symptom_12  Symptom_13  Symptom_14   \n",
       "1        NaN         NaN         NaN         NaN         NaN         NaN   \n",
       "2        NaN         NaN         NaN         NaN         NaN         NaN   \n",
       "3        NaN         NaN         NaN         NaN         NaN         NaN   \n",
       "4        NaN         NaN         NaN         NaN         NaN         NaN   \n",
       "\n",
       "           15          16          17  \n",
       "0  Symptom_15  Symptom_16  Symptom_17  \n",
       "1         NaN         NaN         NaN  \n",
       "2         NaN         NaN         NaN  \n",
       "3         NaN         NaN         NaN  \n",
       "4         NaN         NaN         NaN  "
      ],
      "text/html": "<div>\n<style scoped>\n    .dataframe tbody tr th:only-of-type {\n        vertical-align: middle;\n    }\n\n    .dataframe tbody tr th {\n        vertical-align: top;\n    }\n\n    .dataframe thead th {\n        text-align: right;\n    }\n</style>\n<table border=\"1\" class=\"dataframe\">\n  <thead>\n    <tr style=\"text-align: right;\">\n      <th></th>\n      <th>0</th>\n      <th>1</th>\n      <th>2</th>\n      <th>3</th>\n      <th>4</th>\n      <th>5</th>\n      <th>6</th>\n      <th>7</th>\n      <th>8</th>\n      <th>9</th>\n      <th>10</th>\n      <th>11</th>\n      <th>12</th>\n      <th>13</th>\n      <th>14</th>\n      <th>15</th>\n      <th>16</th>\n      <th>17</th>\n    </tr>\n  </thead>\n  <tbody>\n    <tr>\n      <th>0</th>\n      <td>Disease</td>\n      <td>Symptom_1</td>\n      <td>Symptom_2</td>\n      <td>Symptom_3</td>\n      <td>Symptom_4</td>\n      <td>Symptom_5</td>\n      <td>Symptom_6</td>\n      <td>Symptom_7</td>\n      <td>Symptom_8</td>\n      <td>Symptom_9</td>\n      <td>Symptom_10</td>\n      <td>Symptom_11</td>\n      <td>Symptom_12</td>\n      <td>Symptom_13</td>\n      <td>Symptom_14</td>\n      <td>Symptom_15</td>\n      <td>Symptom_16</td>\n      <td>Symptom_17</td>\n    </tr>\n    <tr>\n      <th>1</th>\n      <td>Fungal infection</td>\n      <td>itching</td>\n      <td>skin_rash</td>\n      <td>nodal_skin_eruptions</td>\n      <td>dischromic _patches</td>\n      <td>NaN</td>\n      <td>NaN</td>\n      <td>NaN</td>\n      <td>NaN</td>\n      <td>NaN</td>\n      <td>NaN</td>\n      <td>NaN</td>\n      <td>NaN</td>\n      <td>NaN</td>\n      <td>NaN</td>\n      <td>NaN</td>\n      <td>NaN</td>\n      <td>NaN</td>\n    </tr>\n    <tr>\n      <th>2</th>\n      <td>Fungal infection</td>\n      <td>skin_rash</td>\n      <td>nodal_skin_eruptions</td>\n      <td>dischromic _patches</td>\n      <td>NaN</td>\n      <td>NaN</td>\n      <td>NaN</td>\n      <td>NaN</td>\n      <td>NaN</td>\n      <td>NaN</td>\n      <td>NaN</td>\n      <td>NaN</td>\n      <td>NaN</td>\n      <td>NaN</td>\n      <td>NaN</td>\n      <td>NaN</td>\n      <td>NaN</td>\n      <td>NaN</td>\n    </tr>\n    <tr>\n      <th>3</th>\n      <td>Fungal infection</td>\n      <td>itching</td>\n      <td>nodal_skin_eruptions</td>\n      <td>dischromic _patches</td>\n      <td>NaN</td>\n      <td>NaN</td>\n      <td>NaN</td>\n      <td>NaN</td>\n      <td>NaN</td>\n      <td>NaN</td>\n      <td>NaN</td>\n      <td>NaN</td>\n      <td>NaN</td>\n      <td>NaN</td>\n      <td>NaN</td>\n      <td>NaN</td>\n      <td>NaN</td>\n      <td>NaN</td>\n    </tr>\n    <tr>\n      <th>4</th>\n      <td>Fungal infection</td>\n      <td>itching</td>\n      <td>skin_rash</td>\n      <td>dischromic _patches</td>\n      <td>NaN</td>\n      <td>NaN</td>\n      <td>NaN</td>\n      <td>NaN</td>\n      <td>NaN</td>\n      <td>NaN</td>\n      <td>NaN</td>\n      <td>NaN</td>\n      <td>NaN</td>\n      <td>NaN</td>\n      <td>NaN</td>\n      <td>NaN</td>\n      <td>NaN</td>\n      <td>NaN</td>\n    </tr>\n  </tbody>\n</table>\n</div>"
     },
     "metadata": {},
     "execution_count": 48
    }
   ],
   "source": [
    "dataset.head()"
   ]
  },
  {
   "cell_type": "code",
   "execution_count": 49,
   "metadata": {},
   "outputs": [],
   "source": [
    "dataset.drop(index = 0, axis = 0, inplace = True)"
   ]
  },
  {
   "cell_type": "code",
   "execution_count": 50,
   "metadata": {},
   "outputs": [],
   "source": [
    "diseases = dataset.iloc[:, 0]\n",
    "symptoms = dataset.iloc[:, 1:]"
   ]
  },
  {
   "cell_type": "code",
   "execution_count": 51,
   "metadata": {},
   "outputs": [
    {
     "output_type": "execute_result",
     "data": {
      "text/plain": [
       "1                              Fungal infection\n",
       "2                              Fungal infection\n",
       "3                              Fungal infection\n",
       "4                              Fungal infection\n",
       "5                              Fungal infection\n",
       "                         ...                   \n",
       "4916    (vertigo) Paroymsal  Positional Vertigo\n",
       "4917                                       Acne\n",
       "4918                    Urinary tract infection\n",
       "4919                                  Psoriasis\n",
       "4920                                   Impetigo\n",
       "Name: 0, Length: 4920, dtype: object"
      ]
     },
     "metadata": {},
     "execution_count": 51
    }
   ],
   "source": [
    "diseases"
   ]
  },
  {
   "cell_type": "code",
   "execution_count": 52,
   "metadata": {},
   "outputs": [
    {
     "output_type": "execute_result",
     "data": {
      "text/plain": [
       "                        1                      2                      3   \\\n",
       "1                  itching              skin_rash   nodal_skin_eruptions   \n",
       "2                skin_rash   nodal_skin_eruptions    dischromic _patches   \n",
       "3                  itching   nodal_skin_eruptions    dischromic _patches   \n",
       "4                  itching              skin_rash    dischromic _patches   \n",
       "5                  itching              skin_rash   nodal_skin_eruptions   \n",
       "...                    ...                    ...                    ...   \n",
       "4916              vomiting               headache                 nausea   \n",
       "4917             skin_rash     pus_filled_pimples             blackheads   \n",
       "4918   burning_micturition     bladder_discomfort    foul_smell_of urine   \n",
       "4919             skin_rash             joint_pain           skin_peeling   \n",
       "4920             skin_rash             high_fever                blister   \n",
       "\n",
       "                             4                      5                    6   \\\n",
       "1           dischromic _patches                    NaN                  NaN   \n",
       "2                           NaN                    NaN                  NaN   \n",
       "3                           NaN                    NaN                  NaN   \n",
       "4                           NaN                    NaN                  NaN   \n",
       "5                           NaN                    NaN                  NaN   \n",
       "...                         ...                    ...                  ...   \n",
       "4916         spinning_movements        loss_of_balance         unsteadiness   \n",
       "4917                   scurring                    NaN                  NaN   \n",
       "4918   continuous_feel_of_urine                    NaN                  NaN   \n",
       "4919        silver_like_dusting   small_dents_in_nails   inflammatory_nails   \n",
       "4920       red_sore_around_nose      yellow_crust_ooze                  NaN   \n",
       "\n",
       "       7    8    9    10   11   12   13   14   15   16   17  \n",
       "1     NaN  NaN  NaN  NaN  NaN  NaN  NaN  NaN  NaN  NaN  NaN  \n",
       "2     NaN  NaN  NaN  NaN  NaN  NaN  NaN  NaN  NaN  NaN  NaN  \n",
       "3     NaN  NaN  NaN  NaN  NaN  NaN  NaN  NaN  NaN  NaN  NaN  \n",
       "4     NaN  NaN  NaN  NaN  NaN  NaN  NaN  NaN  NaN  NaN  NaN  \n",
       "5     NaN  NaN  NaN  NaN  NaN  NaN  NaN  NaN  NaN  NaN  NaN  \n",
       "...   ...  ...  ...  ...  ...  ...  ...  ...  ...  ...  ...  \n",
       "4916  NaN  NaN  NaN  NaN  NaN  NaN  NaN  NaN  NaN  NaN  NaN  \n",
       "4917  NaN  NaN  NaN  NaN  NaN  NaN  NaN  NaN  NaN  NaN  NaN  \n",
       "4918  NaN  NaN  NaN  NaN  NaN  NaN  NaN  NaN  NaN  NaN  NaN  \n",
       "4919  NaN  NaN  NaN  NaN  NaN  NaN  NaN  NaN  NaN  NaN  NaN  \n",
       "4920  NaN  NaN  NaN  NaN  NaN  NaN  NaN  NaN  NaN  NaN  NaN  \n",
       "\n",
       "[4920 rows x 17 columns]"
      ],
      "text/html": "<div>\n<style scoped>\n    .dataframe tbody tr th:only-of-type {\n        vertical-align: middle;\n    }\n\n    .dataframe tbody tr th {\n        vertical-align: top;\n    }\n\n    .dataframe thead th {\n        text-align: right;\n    }\n</style>\n<table border=\"1\" class=\"dataframe\">\n  <thead>\n    <tr style=\"text-align: right;\">\n      <th></th>\n      <th>1</th>\n      <th>2</th>\n      <th>3</th>\n      <th>4</th>\n      <th>5</th>\n      <th>6</th>\n      <th>7</th>\n      <th>8</th>\n      <th>9</th>\n      <th>10</th>\n      <th>11</th>\n      <th>12</th>\n      <th>13</th>\n      <th>14</th>\n      <th>15</th>\n      <th>16</th>\n      <th>17</th>\n    </tr>\n  </thead>\n  <tbody>\n    <tr>\n      <th>1</th>\n      <td>itching</td>\n      <td>skin_rash</td>\n      <td>nodal_skin_eruptions</td>\n      <td>dischromic _patches</td>\n      <td>NaN</td>\n      <td>NaN</td>\n      <td>NaN</td>\n      <td>NaN</td>\n      <td>NaN</td>\n      <td>NaN</td>\n      <td>NaN</td>\n      <td>NaN</td>\n      <td>NaN</td>\n      <td>NaN</td>\n      <td>NaN</td>\n      <td>NaN</td>\n      <td>NaN</td>\n    </tr>\n    <tr>\n      <th>2</th>\n      <td>skin_rash</td>\n      <td>nodal_skin_eruptions</td>\n      <td>dischromic _patches</td>\n      <td>NaN</td>\n      <td>NaN</td>\n      <td>NaN</td>\n      <td>NaN</td>\n      <td>NaN</td>\n      <td>NaN</td>\n      <td>NaN</td>\n      <td>NaN</td>\n      <td>NaN</td>\n      <td>NaN</td>\n      <td>NaN</td>\n      <td>NaN</td>\n      <td>NaN</td>\n      <td>NaN</td>\n    </tr>\n    <tr>\n      <th>3</th>\n      <td>itching</td>\n      <td>nodal_skin_eruptions</td>\n      <td>dischromic _patches</td>\n      <td>NaN</td>\n      <td>NaN</td>\n      <td>NaN</td>\n      <td>NaN</td>\n      <td>NaN</td>\n      <td>NaN</td>\n      <td>NaN</td>\n      <td>NaN</td>\n      <td>NaN</td>\n      <td>NaN</td>\n      <td>NaN</td>\n      <td>NaN</td>\n      <td>NaN</td>\n      <td>NaN</td>\n    </tr>\n    <tr>\n      <th>4</th>\n      <td>itching</td>\n      <td>skin_rash</td>\n      <td>dischromic _patches</td>\n      <td>NaN</td>\n      <td>NaN</td>\n      <td>NaN</td>\n      <td>NaN</td>\n      <td>NaN</td>\n      <td>NaN</td>\n      <td>NaN</td>\n      <td>NaN</td>\n      <td>NaN</td>\n      <td>NaN</td>\n      <td>NaN</td>\n      <td>NaN</td>\n      <td>NaN</td>\n      <td>NaN</td>\n    </tr>\n    <tr>\n      <th>5</th>\n      <td>itching</td>\n      <td>skin_rash</td>\n      <td>nodal_skin_eruptions</td>\n      <td>NaN</td>\n      <td>NaN</td>\n      <td>NaN</td>\n      <td>NaN</td>\n      <td>NaN</td>\n      <td>NaN</td>\n      <td>NaN</td>\n      <td>NaN</td>\n      <td>NaN</td>\n      <td>NaN</td>\n      <td>NaN</td>\n      <td>NaN</td>\n      <td>NaN</td>\n      <td>NaN</td>\n    </tr>\n    <tr>\n      <th>...</th>\n      <td>...</td>\n      <td>...</td>\n      <td>...</td>\n      <td>...</td>\n      <td>...</td>\n      <td>...</td>\n      <td>...</td>\n      <td>...</td>\n      <td>...</td>\n      <td>...</td>\n      <td>...</td>\n      <td>...</td>\n      <td>...</td>\n      <td>...</td>\n      <td>...</td>\n      <td>...</td>\n      <td>...</td>\n    </tr>\n    <tr>\n      <th>4916</th>\n      <td>vomiting</td>\n      <td>headache</td>\n      <td>nausea</td>\n      <td>spinning_movements</td>\n      <td>loss_of_balance</td>\n      <td>unsteadiness</td>\n      <td>NaN</td>\n      <td>NaN</td>\n      <td>NaN</td>\n      <td>NaN</td>\n      <td>NaN</td>\n      <td>NaN</td>\n      <td>NaN</td>\n      <td>NaN</td>\n      <td>NaN</td>\n      <td>NaN</td>\n      <td>NaN</td>\n    </tr>\n    <tr>\n      <th>4917</th>\n      <td>skin_rash</td>\n      <td>pus_filled_pimples</td>\n      <td>blackheads</td>\n      <td>scurring</td>\n      <td>NaN</td>\n      <td>NaN</td>\n      <td>NaN</td>\n      <td>NaN</td>\n      <td>NaN</td>\n      <td>NaN</td>\n      <td>NaN</td>\n      <td>NaN</td>\n      <td>NaN</td>\n      <td>NaN</td>\n      <td>NaN</td>\n      <td>NaN</td>\n      <td>NaN</td>\n    </tr>\n    <tr>\n      <th>4918</th>\n      <td>burning_micturition</td>\n      <td>bladder_discomfort</td>\n      <td>foul_smell_of urine</td>\n      <td>continuous_feel_of_urine</td>\n      <td>NaN</td>\n      <td>NaN</td>\n      <td>NaN</td>\n      <td>NaN</td>\n      <td>NaN</td>\n      <td>NaN</td>\n      <td>NaN</td>\n      <td>NaN</td>\n      <td>NaN</td>\n      <td>NaN</td>\n      <td>NaN</td>\n      <td>NaN</td>\n      <td>NaN</td>\n    </tr>\n    <tr>\n      <th>4919</th>\n      <td>skin_rash</td>\n      <td>joint_pain</td>\n      <td>skin_peeling</td>\n      <td>silver_like_dusting</td>\n      <td>small_dents_in_nails</td>\n      <td>inflammatory_nails</td>\n      <td>NaN</td>\n      <td>NaN</td>\n      <td>NaN</td>\n      <td>NaN</td>\n      <td>NaN</td>\n      <td>NaN</td>\n      <td>NaN</td>\n      <td>NaN</td>\n      <td>NaN</td>\n      <td>NaN</td>\n      <td>NaN</td>\n    </tr>\n    <tr>\n      <th>4920</th>\n      <td>skin_rash</td>\n      <td>high_fever</td>\n      <td>blister</td>\n      <td>red_sore_around_nose</td>\n      <td>yellow_crust_ooze</td>\n      <td>NaN</td>\n      <td>NaN</td>\n      <td>NaN</td>\n      <td>NaN</td>\n      <td>NaN</td>\n      <td>NaN</td>\n      <td>NaN</td>\n      <td>NaN</td>\n      <td>NaN</td>\n      <td>NaN</td>\n      <td>NaN</td>\n      <td>NaN</td>\n    </tr>\n  </tbody>\n</table>\n<p>4920 rows × 17 columns</p>\n</div>"
     },
     "metadata": {},
     "execution_count": 52
    }
   ],
   "source": [
    "symptoms"
   ]
  },
  {
   "cell_type": "code",
   "execution_count": 81,
   "metadata": {},
   "outputs": [],
   "source": [
    "symptoms.reset_index(inplace = True, drop = True)\n",
    "diseases.reset_index(inplace=True, drop=True)"
   ]
  },
  {
   "cell_type": "code",
   "execution_count": 54,
   "metadata": {},
   "outputs": [
    {
     "output_type": "execute_result",
     "data": {
      "text/plain": [
       "                        1                      2                      3   \\\n",
       "0                  itching              skin_rash   nodal_skin_eruptions   \n",
       "1                skin_rash   nodal_skin_eruptions    dischromic _patches   \n",
       "2                  itching   nodal_skin_eruptions    dischromic _patches   \n",
       "3                  itching              skin_rash    dischromic _patches   \n",
       "4                  itching              skin_rash   nodal_skin_eruptions   \n",
       "...                    ...                    ...                    ...   \n",
       "4915              vomiting               headache                 nausea   \n",
       "4916             skin_rash     pus_filled_pimples             blackheads   \n",
       "4917   burning_micturition     bladder_discomfort    foul_smell_of urine   \n",
       "4918             skin_rash             joint_pain           skin_peeling   \n",
       "4919             skin_rash             high_fever                blister   \n",
       "\n",
       "                             4                      5                    6   \\\n",
       "0           dischromic _patches                    NaN                  NaN   \n",
       "1                           NaN                    NaN                  NaN   \n",
       "2                           NaN                    NaN                  NaN   \n",
       "3                           NaN                    NaN                  NaN   \n",
       "4                           NaN                    NaN                  NaN   \n",
       "...                         ...                    ...                  ...   \n",
       "4915         spinning_movements        loss_of_balance         unsteadiness   \n",
       "4916                   scurring                    NaN                  NaN   \n",
       "4917   continuous_feel_of_urine                    NaN                  NaN   \n",
       "4918        silver_like_dusting   small_dents_in_nails   inflammatory_nails   \n",
       "4919       red_sore_around_nose      yellow_crust_ooze                  NaN   \n",
       "\n",
       "       7    8    9    10   11   12   13   14   15   16   17  \n",
       "0     NaN  NaN  NaN  NaN  NaN  NaN  NaN  NaN  NaN  NaN  NaN  \n",
       "1     NaN  NaN  NaN  NaN  NaN  NaN  NaN  NaN  NaN  NaN  NaN  \n",
       "2     NaN  NaN  NaN  NaN  NaN  NaN  NaN  NaN  NaN  NaN  NaN  \n",
       "3     NaN  NaN  NaN  NaN  NaN  NaN  NaN  NaN  NaN  NaN  NaN  \n",
       "4     NaN  NaN  NaN  NaN  NaN  NaN  NaN  NaN  NaN  NaN  NaN  \n",
       "...   ...  ...  ...  ...  ...  ...  ...  ...  ...  ...  ...  \n",
       "4915  NaN  NaN  NaN  NaN  NaN  NaN  NaN  NaN  NaN  NaN  NaN  \n",
       "4916  NaN  NaN  NaN  NaN  NaN  NaN  NaN  NaN  NaN  NaN  NaN  \n",
       "4917  NaN  NaN  NaN  NaN  NaN  NaN  NaN  NaN  NaN  NaN  NaN  \n",
       "4918  NaN  NaN  NaN  NaN  NaN  NaN  NaN  NaN  NaN  NaN  NaN  \n",
       "4919  NaN  NaN  NaN  NaN  NaN  NaN  NaN  NaN  NaN  NaN  NaN  \n",
       "\n",
       "[4920 rows x 17 columns]"
      ],
      "text/html": "<div>\n<style scoped>\n    .dataframe tbody tr th:only-of-type {\n        vertical-align: middle;\n    }\n\n    .dataframe tbody tr th {\n        vertical-align: top;\n    }\n\n    .dataframe thead th {\n        text-align: right;\n    }\n</style>\n<table border=\"1\" class=\"dataframe\">\n  <thead>\n    <tr style=\"text-align: right;\">\n      <th></th>\n      <th>1</th>\n      <th>2</th>\n      <th>3</th>\n      <th>4</th>\n      <th>5</th>\n      <th>6</th>\n      <th>7</th>\n      <th>8</th>\n      <th>9</th>\n      <th>10</th>\n      <th>11</th>\n      <th>12</th>\n      <th>13</th>\n      <th>14</th>\n      <th>15</th>\n      <th>16</th>\n      <th>17</th>\n    </tr>\n  </thead>\n  <tbody>\n    <tr>\n      <th>0</th>\n      <td>itching</td>\n      <td>skin_rash</td>\n      <td>nodal_skin_eruptions</td>\n      <td>dischromic _patches</td>\n      <td>NaN</td>\n      <td>NaN</td>\n      <td>NaN</td>\n      <td>NaN</td>\n      <td>NaN</td>\n      <td>NaN</td>\n      <td>NaN</td>\n      <td>NaN</td>\n      <td>NaN</td>\n      <td>NaN</td>\n      <td>NaN</td>\n      <td>NaN</td>\n      <td>NaN</td>\n    </tr>\n    <tr>\n      <th>1</th>\n      <td>skin_rash</td>\n      <td>nodal_skin_eruptions</td>\n      <td>dischromic _patches</td>\n      <td>NaN</td>\n      <td>NaN</td>\n      <td>NaN</td>\n      <td>NaN</td>\n      <td>NaN</td>\n      <td>NaN</td>\n      <td>NaN</td>\n      <td>NaN</td>\n      <td>NaN</td>\n      <td>NaN</td>\n      <td>NaN</td>\n      <td>NaN</td>\n      <td>NaN</td>\n      <td>NaN</td>\n    </tr>\n    <tr>\n      <th>2</th>\n      <td>itching</td>\n      <td>nodal_skin_eruptions</td>\n      <td>dischromic _patches</td>\n      <td>NaN</td>\n      <td>NaN</td>\n      <td>NaN</td>\n      <td>NaN</td>\n      <td>NaN</td>\n      <td>NaN</td>\n      <td>NaN</td>\n      <td>NaN</td>\n      <td>NaN</td>\n      <td>NaN</td>\n      <td>NaN</td>\n      <td>NaN</td>\n      <td>NaN</td>\n      <td>NaN</td>\n    </tr>\n    <tr>\n      <th>3</th>\n      <td>itching</td>\n      <td>skin_rash</td>\n      <td>dischromic _patches</td>\n      <td>NaN</td>\n      <td>NaN</td>\n      <td>NaN</td>\n      <td>NaN</td>\n      <td>NaN</td>\n      <td>NaN</td>\n      <td>NaN</td>\n      <td>NaN</td>\n      <td>NaN</td>\n      <td>NaN</td>\n      <td>NaN</td>\n      <td>NaN</td>\n      <td>NaN</td>\n      <td>NaN</td>\n    </tr>\n    <tr>\n      <th>4</th>\n      <td>itching</td>\n      <td>skin_rash</td>\n      <td>nodal_skin_eruptions</td>\n      <td>NaN</td>\n      <td>NaN</td>\n      <td>NaN</td>\n      <td>NaN</td>\n      <td>NaN</td>\n      <td>NaN</td>\n      <td>NaN</td>\n      <td>NaN</td>\n      <td>NaN</td>\n      <td>NaN</td>\n      <td>NaN</td>\n      <td>NaN</td>\n      <td>NaN</td>\n      <td>NaN</td>\n    </tr>\n    <tr>\n      <th>...</th>\n      <td>...</td>\n      <td>...</td>\n      <td>...</td>\n      <td>...</td>\n      <td>...</td>\n      <td>...</td>\n      <td>...</td>\n      <td>...</td>\n      <td>...</td>\n      <td>...</td>\n      <td>...</td>\n      <td>...</td>\n      <td>...</td>\n      <td>...</td>\n      <td>...</td>\n      <td>...</td>\n      <td>...</td>\n    </tr>\n    <tr>\n      <th>4915</th>\n      <td>vomiting</td>\n      <td>headache</td>\n      <td>nausea</td>\n      <td>spinning_movements</td>\n      <td>loss_of_balance</td>\n      <td>unsteadiness</td>\n      <td>NaN</td>\n      <td>NaN</td>\n      <td>NaN</td>\n      <td>NaN</td>\n      <td>NaN</td>\n      <td>NaN</td>\n      <td>NaN</td>\n      <td>NaN</td>\n      <td>NaN</td>\n      <td>NaN</td>\n      <td>NaN</td>\n    </tr>\n    <tr>\n      <th>4916</th>\n      <td>skin_rash</td>\n      <td>pus_filled_pimples</td>\n      <td>blackheads</td>\n      <td>scurring</td>\n      <td>NaN</td>\n      <td>NaN</td>\n      <td>NaN</td>\n      <td>NaN</td>\n      <td>NaN</td>\n      <td>NaN</td>\n      <td>NaN</td>\n      <td>NaN</td>\n      <td>NaN</td>\n      <td>NaN</td>\n      <td>NaN</td>\n      <td>NaN</td>\n      <td>NaN</td>\n    </tr>\n    <tr>\n      <th>4917</th>\n      <td>burning_micturition</td>\n      <td>bladder_discomfort</td>\n      <td>foul_smell_of urine</td>\n      <td>continuous_feel_of_urine</td>\n      <td>NaN</td>\n      <td>NaN</td>\n      <td>NaN</td>\n      <td>NaN</td>\n      <td>NaN</td>\n      <td>NaN</td>\n      <td>NaN</td>\n      <td>NaN</td>\n      <td>NaN</td>\n      <td>NaN</td>\n      <td>NaN</td>\n      <td>NaN</td>\n      <td>NaN</td>\n    </tr>\n    <tr>\n      <th>4918</th>\n      <td>skin_rash</td>\n      <td>joint_pain</td>\n      <td>skin_peeling</td>\n      <td>silver_like_dusting</td>\n      <td>small_dents_in_nails</td>\n      <td>inflammatory_nails</td>\n      <td>NaN</td>\n      <td>NaN</td>\n      <td>NaN</td>\n      <td>NaN</td>\n      <td>NaN</td>\n      <td>NaN</td>\n      <td>NaN</td>\n      <td>NaN</td>\n      <td>NaN</td>\n      <td>NaN</td>\n      <td>NaN</td>\n    </tr>\n    <tr>\n      <th>4919</th>\n      <td>skin_rash</td>\n      <td>high_fever</td>\n      <td>blister</td>\n      <td>red_sore_around_nose</td>\n      <td>yellow_crust_ooze</td>\n      <td>NaN</td>\n      <td>NaN</td>\n      <td>NaN</td>\n      <td>NaN</td>\n      <td>NaN</td>\n      <td>NaN</td>\n      <td>NaN</td>\n      <td>NaN</td>\n      <td>NaN</td>\n      <td>NaN</td>\n      <td>NaN</td>\n      <td>NaN</td>\n    </tr>\n  </tbody>\n</table>\n<p>4920 rows × 17 columns</p>\n</div>"
     },
     "metadata": {},
     "execution_count": 54
    }
   ],
   "source": [
    "symptoms"
   ]
  },
  {
   "cell_type": "code",
   "execution_count": 55,
   "metadata": {},
   "outputs": [],
   "source": [
    "symptoms_arr = []\n",
    "for i in range(0,4920):\n",
    "    symptoms_arr.append([str(symptoms.values[i,j]) for j in range(0,17)])"
   ]
  },
  {
   "cell_type": "code",
   "execution_count": 58,
   "metadata": {},
   "outputs": [
    {
     "output_type": "execute_result",
     "data": {
      "text/plain": [
       "[' skin_rash',\n",
       " ' nodal_skin_eruptions',\n",
       " ' dischromic _patches',\n",
       " 'nan',\n",
       " 'nan',\n",
       " 'nan',\n",
       " 'nan',\n",
       " 'nan',\n",
       " 'nan',\n",
       " 'nan',\n",
       " 'nan',\n",
       " 'nan',\n",
       " 'nan',\n",
       " 'nan',\n",
       " 'nan',\n",
       " 'nan',\n",
       " 'nan']"
      ]
     },
     "metadata": {},
     "execution_count": 58
    }
   ],
   "source": [
    "symptoms_arr[1]"
   ]
  },
  {
   "cell_type": "code",
   "execution_count": 71,
   "metadata": {},
   "outputs": [],
   "source": [
    "symptom_cols = pd.unique(symptoms.iloc[:,:].values.ravel('K'))"
   ]
  },
  {
   "cell_type": "code",
   "execution_count": 72,
   "metadata": {},
   "outputs": [
    {
     "output_type": "execute_result",
     "data": {
      "text/plain": [
       "(132,)"
      ]
     },
     "metadata": {},
     "execution_count": 72
    }
   ],
   "source": [
    "symptom_cols.shape"
   ]
  },
  {
   "cell_type": "code",
   "execution_count": 83,
   "metadata": {},
   "outputs": [
    {
     "output_type": "execute_result",
     "data": {
      "text/plain": [
       "Empty DataFrame\n",
       "Columns: [itching,  skin_rash,  continuous_sneezing,  shivering,  stomach_pain,  acidity,  vomiting,  indigestion,  muscle_wasting,  patches_in_throat,  fatigue,  weight_loss,  sunken_eyes,  cough,  headache,  chest_pain,  back_pain,  weakness_in_limbs,  chills,  joint_pain,  yellowish_skin,  constipation,  pain_during_bowel_movements,  breathlessness,  cramps,  weight_gain,  mood_swings,  neck_pain,  muscle_weakness,  stiff_neck,  pus_filled_pimples,  burning_micturition,  bladder_discomfort,  high_fever,  nodal_skin_eruptions,  ulcers_on_tongue,  loss_of_appetite,  restlessness,  dehydration,  dizziness,  weakness_of_one_body_side,  lethargy,  nausea,  abdominal_pain,  pain_in_anal_region,  sweating,  bruising,  cold_hands_and_feets,  anxiety,  knee_pain,  swelling_joints,  blackheads,  foul_smell_of urine,  skin_peeling,  blister,  dischromic _patches,  watering_from_eyes,  extra_marital_contacts,  diarrhoea,  loss_of_balance,  blurred_and_distorted_vision,  altered_sensorium,  dark_urine,  swelling_of_stomach,  bloody_stool,  obesity,  hip_joint_pain,  movement_stiffness,  spinning_movements,  scurring,  continuous_feel_of_urine,  silver_like_dusting,  red_sore_around_nose, nan,  spotting_ urination,  passage_of_gases,  irregular_sugar_level,  family_history,  lack_of_concentration,  excessive_hunger,  yellowing_of_eyes,  distention_of_abdomen,  irritation_in_anus,  swollen_legs,  painful_walking,  small_dents_in_nails,  yellow_crust_ooze,  internal_itching,  mucoid_sputum,  history_of_alcohol_consumption,  swollen_blood_vessels,  unsteadiness,  inflammatory_nails,  depression,  fluid_overload,  swelled_lymph_nodes,  malaise,  prominent_veins_on_calf,  puffy_face_and_eyes,  fast_heart_rate, ...]\n",
       "Index: []\n",
       "\n",
       "[0 rows x 132 columns]"
      ],
      "text/html": "<div>\n<style scoped>\n    .dataframe tbody tr th:only-of-type {\n        vertical-align: middle;\n    }\n\n    .dataframe tbody tr th {\n        vertical-align: top;\n    }\n\n    .dataframe thead th {\n        text-align: right;\n    }\n</style>\n<table border=\"1\" class=\"dataframe\">\n  <thead>\n    <tr style=\"text-align: right;\">\n      <th></th>\n      <th>itching</th>\n      <th>skin_rash</th>\n      <th>continuous_sneezing</th>\n      <th>shivering</th>\n      <th>stomach_pain</th>\n      <th>acidity</th>\n      <th>vomiting</th>\n      <th>indigestion</th>\n      <th>muscle_wasting</th>\n      <th>patches_in_throat</th>\n      <th>...</th>\n      <th>abnormal_menstruation</th>\n      <th>receiving_unsterile_injections</th>\n      <th>coma</th>\n      <th>sinus_pressure</th>\n      <th>palpitations</th>\n      <th>stomach_bleeding</th>\n      <th>runny_nose</th>\n      <th>congestion</th>\n      <th>blood_in_sputum</th>\n      <th>loss_of_smell</th>\n    </tr>\n  </thead>\n  <tbody>\n  </tbody>\n</table>\n<p>0 rows × 132 columns</p>\n</div>"
     },
     "metadata": {},
     "execution_count": 83
    }
   ],
   "source": [
    "diseases_df = pd.DataFrame(columns = symptom_cols)\n",
    "diseases_df.head()"
   ]
  },
  {
   "cell_type": "code",
   "execution_count": 84,
   "metadata": {},
   "outputs": [
    {
     "output_type": "execute_result",
     "data": {
      "text/plain": [
       "array([[1, 1, 0, ..., 0, 0, 0],\n",
       "       [0, 1, 0, ..., 0, 0, 0],\n",
       "       [1, 0, 0, ..., 0, 0, 0],\n",
       "       ...,\n",
       "       [0, 0, 0, ..., 0, 0, 0],\n",
       "       [0, 1, 0, ..., 0, 0, 0],\n",
       "       [0, 1, 0, ..., 0, 0, 0]])"
      ]
     },
     "metadata": {},
     "execution_count": 84
    }
   ],
   "source": [
    "symptoms_binary = np.zeros((4920,132), dtype = int)\n",
    "\n",
    "for row in range(0,4920):\n",
    "    for col in range(0,132):\n",
    "        for sym in range(0,17):\n",
    "            if symptom_cols[col] == symptoms_arr[row][sym]:\n",
    "                symptoms_binary[row][col] = 1\n",
    "\n",
    "symptoms_binary"
   ]
  },
  {
   "cell_type": "code",
   "execution_count": 85,
   "metadata": {},
   "outputs": [],
   "source": [
    "for i in range(len(symptoms_binary)):\n",
    "    diseases_df.loc[i] = symptoms_binary[i]"
   ]
  },
  {
   "cell_type": "code",
   "execution_count": 87,
   "metadata": {},
   "outputs": [
    {
     "output_type": "execute_result",
     "data": {
      "text/plain": [
       "  itching  skin_rash  continuous_sneezing  shivering  stomach_pain  acidity  \\\n",
       "0       1          1                    0          0             0        0   \n",
       "1       0          1                    0          0             0        0   \n",
       "2       1          0                    0          0             0        0   \n",
       "3       1          1                    0          0             0        0   \n",
       "4       1          1                    0          0             0        0   \n",
       "\n",
       "   vomiting  indigestion  muscle_wasting  patches_in_throat  ...  \\\n",
       "0         0            0               0                  0  ...   \n",
       "1         0            0               0                  0  ...   \n",
       "2         0            0               0                  0  ...   \n",
       "3         0            0               0                  0  ...   \n",
       "4         0            0               0                  0  ...   \n",
       "\n",
       "   abnormal_menstruation  receiving_unsterile_injections  coma  \\\n",
       "0                      0                               0     0   \n",
       "1                      0                               0     0   \n",
       "2                      0                               0     0   \n",
       "3                      0                               0     0   \n",
       "4                      0                               0     0   \n",
       "\n",
       "   sinus_pressure  palpitations  stomach_bleeding  runny_nose  congestion  \\\n",
       "0               0             0                 0           0           0   \n",
       "1               0             0                 0           0           0   \n",
       "2               0             0                 0           0           0   \n",
       "3               0             0                 0           0           0   \n",
       "4               0             0                 0           0           0   \n",
       "\n",
       "   blood_in_sputum  loss_of_smell  \n",
       "0                0              0  \n",
       "1                0              0  \n",
       "2                0              0  \n",
       "3                0              0  \n",
       "4                0              0  \n",
       "\n",
       "[5 rows x 132 columns]"
      ],
      "text/html": "<div>\n<style scoped>\n    .dataframe tbody tr th:only-of-type {\n        vertical-align: middle;\n    }\n\n    .dataframe tbody tr th {\n        vertical-align: top;\n    }\n\n    .dataframe thead th {\n        text-align: right;\n    }\n</style>\n<table border=\"1\" class=\"dataframe\">\n  <thead>\n    <tr style=\"text-align: right;\">\n      <th></th>\n      <th>itching</th>\n      <th>skin_rash</th>\n      <th>continuous_sneezing</th>\n      <th>shivering</th>\n      <th>stomach_pain</th>\n      <th>acidity</th>\n      <th>vomiting</th>\n      <th>indigestion</th>\n      <th>muscle_wasting</th>\n      <th>patches_in_throat</th>\n      <th>...</th>\n      <th>abnormal_menstruation</th>\n      <th>receiving_unsterile_injections</th>\n      <th>coma</th>\n      <th>sinus_pressure</th>\n      <th>palpitations</th>\n      <th>stomach_bleeding</th>\n      <th>runny_nose</th>\n      <th>congestion</th>\n      <th>blood_in_sputum</th>\n      <th>loss_of_smell</th>\n    </tr>\n  </thead>\n  <tbody>\n    <tr>\n      <th>0</th>\n      <td>1</td>\n      <td>1</td>\n      <td>0</td>\n      <td>0</td>\n      <td>0</td>\n      <td>0</td>\n      <td>0</td>\n      <td>0</td>\n      <td>0</td>\n      <td>0</td>\n      <td>...</td>\n      <td>0</td>\n      <td>0</td>\n      <td>0</td>\n      <td>0</td>\n      <td>0</td>\n      <td>0</td>\n      <td>0</td>\n      <td>0</td>\n      <td>0</td>\n      <td>0</td>\n    </tr>\n    <tr>\n      <th>1</th>\n      <td>0</td>\n      <td>1</td>\n      <td>0</td>\n      <td>0</td>\n      <td>0</td>\n      <td>0</td>\n      <td>0</td>\n      <td>0</td>\n      <td>0</td>\n      <td>0</td>\n      <td>...</td>\n      <td>0</td>\n      <td>0</td>\n      <td>0</td>\n      <td>0</td>\n      <td>0</td>\n      <td>0</td>\n      <td>0</td>\n      <td>0</td>\n      <td>0</td>\n      <td>0</td>\n    </tr>\n    <tr>\n      <th>2</th>\n      <td>1</td>\n      <td>0</td>\n      <td>0</td>\n      <td>0</td>\n      <td>0</td>\n      <td>0</td>\n      <td>0</td>\n      <td>0</td>\n      <td>0</td>\n      <td>0</td>\n      <td>...</td>\n      <td>0</td>\n      <td>0</td>\n      <td>0</td>\n      <td>0</td>\n      <td>0</td>\n      <td>0</td>\n      <td>0</td>\n      <td>0</td>\n      <td>0</td>\n      <td>0</td>\n    </tr>\n    <tr>\n      <th>3</th>\n      <td>1</td>\n      <td>1</td>\n      <td>0</td>\n      <td>0</td>\n      <td>0</td>\n      <td>0</td>\n      <td>0</td>\n      <td>0</td>\n      <td>0</td>\n      <td>0</td>\n      <td>...</td>\n      <td>0</td>\n      <td>0</td>\n      <td>0</td>\n      <td>0</td>\n      <td>0</td>\n      <td>0</td>\n      <td>0</td>\n      <td>0</td>\n      <td>0</td>\n      <td>0</td>\n    </tr>\n    <tr>\n      <th>4</th>\n      <td>1</td>\n      <td>1</td>\n      <td>0</td>\n      <td>0</td>\n      <td>0</td>\n      <td>0</td>\n      <td>0</td>\n      <td>0</td>\n      <td>0</td>\n      <td>0</td>\n      <td>...</td>\n      <td>0</td>\n      <td>0</td>\n      <td>0</td>\n      <td>0</td>\n      <td>0</td>\n      <td>0</td>\n      <td>0</td>\n      <td>0</td>\n      <td>0</td>\n      <td>0</td>\n    </tr>\n  </tbody>\n</table>\n<p>5 rows × 132 columns</p>\n</div>"
     },
     "metadata": {},
     "execution_count": 87
    }
   ],
   "source": [
    "diseases_df.head()"
   ]
  },
  {
   "cell_type": "code",
   "execution_count": 88,
   "metadata": {},
   "outputs": [],
   "source": [
    "diseases_df['disease'] = diseases"
   ]
  },
  {
   "cell_type": "code",
   "execution_count": 89,
   "metadata": {},
   "outputs": [
    {
     "output_type": "execute_result",
     "data": {
      "text/plain": [
       "  itching  skin_rash  continuous_sneezing  shivering  stomach_pain  acidity  \\\n",
       "0       1          1                    0          0             0        0   \n",
       "1       0          1                    0          0             0        0   \n",
       "2       1          0                    0          0             0        0   \n",
       "3       1          1                    0          0             0        0   \n",
       "4       1          1                    0          0             0        0   \n",
       "\n",
       "   vomiting  indigestion  muscle_wasting  patches_in_throat  ...  \\\n",
       "0         0            0               0                  0  ...   \n",
       "1         0            0               0                  0  ...   \n",
       "2         0            0               0                  0  ...   \n",
       "3         0            0               0                  0  ...   \n",
       "4         0            0               0                  0  ...   \n",
       "\n",
       "   receiving_unsterile_injections  coma  sinus_pressure  palpitations  \\\n",
       "0                               0     0               0             0   \n",
       "1                               0     0               0             0   \n",
       "2                               0     0               0             0   \n",
       "3                               0     0               0             0   \n",
       "4                               0     0               0             0   \n",
       "\n",
       "   stomach_bleeding  runny_nose  congestion  blood_in_sputum  loss_of_smell  \\\n",
       "0                 0           0           0                0              0   \n",
       "1                 0           0           0                0              0   \n",
       "2                 0           0           0                0              0   \n",
       "3                 0           0           0                0              0   \n",
       "4                 0           0           0                0              0   \n",
       "\n",
       "            disease  \n",
       "0  Fungal infection  \n",
       "1  Fungal infection  \n",
       "2  Fungal infection  \n",
       "3  Fungal infection  \n",
       "4  Fungal infection  \n",
       "\n",
       "[5 rows x 133 columns]"
      ],
      "text/html": "<div>\n<style scoped>\n    .dataframe tbody tr th:only-of-type {\n        vertical-align: middle;\n    }\n\n    .dataframe tbody tr th {\n        vertical-align: top;\n    }\n\n    .dataframe thead th {\n        text-align: right;\n    }\n</style>\n<table border=\"1\" class=\"dataframe\">\n  <thead>\n    <tr style=\"text-align: right;\">\n      <th></th>\n      <th>itching</th>\n      <th>skin_rash</th>\n      <th>continuous_sneezing</th>\n      <th>shivering</th>\n      <th>stomach_pain</th>\n      <th>acidity</th>\n      <th>vomiting</th>\n      <th>indigestion</th>\n      <th>muscle_wasting</th>\n      <th>patches_in_throat</th>\n      <th>...</th>\n      <th>receiving_unsterile_injections</th>\n      <th>coma</th>\n      <th>sinus_pressure</th>\n      <th>palpitations</th>\n      <th>stomach_bleeding</th>\n      <th>runny_nose</th>\n      <th>congestion</th>\n      <th>blood_in_sputum</th>\n      <th>loss_of_smell</th>\n      <th>disease</th>\n    </tr>\n  </thead>\n  <tbody>\n    <tr>\n      <th>0</th>\n      <td>1</td>\n      <td>1</td>\n      <td>0</td>\n      <td>0</td>\n      <td>0</td>\n      <td>0</td>\n      <td>0</td>\n      <td>0</td>\n      <td>0</td>\n      <td>0</td>\n      <td>...</td>\n      <td>0</td>\n      <td>0</td>\n      <td>0</td>\n      <td>0</td>\n      <td>0</td>\n      <td>0</td>\n      <td>0</td>\n      <td>0</td>\n      <td>0</td>\n      <td>Fungal infection</td>\n    </tr>\n    <tr>\n      <th>1</th>\n      <td>0</td>\n      <td>1</td>\n      <td>0</td>\n      <td>0</td>\n      <td>0</td>\n      <td>0</td>\n      <td>0</td>\n      <td>0</td>\n      <td>0</td>\n      <td>0</td>\n      <td>...</td>\n      <td>0</td>\n      <td>0</td>\n      <td>0</td>\n      <td>0</td>\n      <td>0</td>\n      <td>0</td>\n      <td>0</td>\n      <td>0</td>\n      <td>0</td>\n      <td>Fungal infection</td>\n    </tr>\n    <tr>\n      <th>2</th>\n      <td>1</td>\n      <td>0</td>\n      <td>0</td>\n      <td>0</td>\n      <td>0</td>\n      <td>0</td>\n      <td>0</td>\n      <td>0</td>\n      <td>0</td>\n      <td>0</td>\n      <td>...</td>\n      <td>0</td>\n      <td>0</td>\n      <td>0</td>\n      <td>0</td>\n      <td>0</td>\n      <td>0</td>\n      <td>0</td>\n      <td>0</td>\n      <td>0</td>\n      <td>Fungal infection</td>\n    </tr>\n    <tr>\n      <th>3</th>\n      <td>1</td>\n      <td>1</td>\n      <td>0</td>\n      <td>0</td>\n      <td>0</td>\n      <td>0</td>\n      <td>0</td>\n      <td>0</td>\n      <td>0</td>\n      <td>0</td>\n      <td>...</td>\n      <td>0</td>\n      <td>0</td>\n      <td>0</td>\n      <td>0</td>\n      <td>0</td>\n      <td>0</td>\n      <td>0</td>\n      <td>0</td>\n      <td>0</td>\n      <td>Fungal infection</td>\n    </tr>\n    <tr>\n      <th>4</th>\n      <td>1</td>\n      <td>1</td>\n      <td>0</td>\n      <td>0</td>\n      <td>0</td>\n      <td>0</td>\n      <td>0</td>\n      <td>0</td>\n      <td>0</td>\n      <td>0</td>\n      <td>...</td>\n      <td>0</td>\n      <td>0</td>\n      <td>0</td>\n      <td>0</td>\n      <td>0</td>\n      <td>0</td>\n      <td>0</td>\n      <td>0</td>\n      <td>0</td>\n      <td>Fungal infection</td>\n    </tr>\n  </tbody>\n</table>\n<p>5 rows × 133 columns</p>\n</div>"
     },
     "metadata": {},
     "execution_count": 89
    }
   ],
   "source": [
    "diseases_df.head()"
   ]
  },
  {
   "cell_type": "code",
   "execution_count": 91,
   "metadata": {},
   "outputs": [
    {
     "output_type": "execute_result",
     "data": {
      "text/plain": [
       "(4920, 133)"
      ]
     },
     "metadata": {},
     "execution_count": 91
    }
   ],
   "source": [
    "diseases_df.shape"
   ]
  },
  {
   "cell_type": "code",
   "execution_count": 92,
   "metadata": {},
   "outputs": [],
   "source": [
    "diseases_df.to_csv(\"./data/formatted_health_data.csv\", index=False)"
   ]
  },
  {
   "cell_type": "code",
   "execution_count": 17,
   "metadata": {},
   "outputs": [],
   "source": [
    "dataset = pd.read_csv('data/Disease_descriptions.csv')"
   ]
  },
  {
   "cell_type": "code",
   "execution_count": 18,
   "metadata": {},
   "outputs": [
    {
     "output_type": "execute_result",
     "data": {
      "text/plain": [
       "          Disease                                        Description\n",
       "0   Drug Reaction  An adverse drug reaction (ADR) is an injury ca...\n",
       "1         Malaria  An infectious disease caused by protozoan para...\n",
       "2         Allergy  An allergy is an immune system response to a f...\n",
       "3  Hypothyroidism  Hypothyroidism, also called underactive thyroi...\n",
       "4       Psoriasis  Psoriasis is a common skin disorder that forms..."
      ],
      "text/html": "<div>\n<style scoped>\n    .dataframe tbody tr th:only-of-type {\n        vertical-align: middle;\n    }\n\n    .dataframe tbody tr th {\n        vertical-align: top;\n    }\n\n    .dataframe thead th {\n        text-align: right;\n    }\n</style>\n<table border=\"1\" class=\"dataframe\">\n  <thead>\n    <tr style=\"text-align: right;\">\n      <th></th>\n      <th>Disease</th>\n      <th>Description</th>\n    </tr>\n  </thead>\n  <tbody>\n    <tr>\n      <th>0</th>\n      <td>Drug Reaction</td>\n      <td>An adverse drug reaction (ADR) is an injury ca...</td>\n    </tr>\n    <tr>\n      <th>1</th>\n      <td>Malaria</td>\n      <td>An infectious disease caused by protozoan para...</td>\n    </tr>\n    <tr>\n      <th>2</th>\n      <td>Allergy</td>\n      <td>An allergy is an immune system response to a f...</td>\n    </tr>\n    <tr>\n      <th>3</th>\n      <td>Hypothyroidism</td>\n      <td>Hypothyroidism, also called underactive thyroi...</td>\n    </tr>\n    <tr>\n      <th>4</th>\n      <td>Psoriasis</td>\n      <td>Psoriasis is a common skin disorder that forms...</td>\n    </tr>\n  </tbody>\n</table>\n</div>"
     },
     "metadata": {},
     "execution_count": 18
    }
   ],
   "source": [
    "dataset.head()"
   ]
  },
  {
   "cell_type": "code",
   "execution_count": 34,
   "metadata": {},
   "outputs": [],
   "source": [
    "diseases = dataset.iloc[:, 0]\n",
    "desc = dataset.iloc[:, 1]"
   ]
  },
  {
   "cell_type": "code",
   "execution_count": 35,
   "metadata": {},
   "outputs": [
    {
     "output_type": "execute_result",
     "data": {
      "text/plain": [
       "0     Drug Reaction\n",
       "1           Malaria\n",
       "2           Allergy\n",
       "3    Hypothyroidism\n",
       "4         Psoriasis\n",
       "Name: Disease, dtype: object"
      ]
     },
     "metadata": {},
     "execution_count": 35
    }
   ],
   "source": [
    "diseases.head()"
   ]
  },
  {
   "cell_type": "code",
   "execution_count": 39,
   "metadata": {},
   "outputs": [
    {
     "output_type": "execute_result",
     "data": {
      "text/plain": [
       "'An adverse drug reaction (ADR) is an injury caused by taking medication. ADRs may occur following a single dose or prolonged administration of a drug or result from the combination of two or more drugs.'"
      ]
     },
     "metadata": {},
     "execution_count": 39
    }
   ],
   "source": [
    "desc[0]"
   ]
  },
  {
   "cell_type": "code",
   "execution_count": 23,
   "metadata": {},
   "outputs": [],
   "source": [
    "dict = {}"
   ]
  },
  {
   "cell_type": "code",
   "execution_count": 40,
   "metadata": {},
   "outputs": [],
   "source": [
    "for i, disease in enumerate(diseases):\n",
    "    dict[disease] = desc[i]"
   ]
  },
  {
   "cell_type": "code",
   "execution_count": 47,
   "metadata": {},
   "outputs": [],
   "source": [
    "dataset = pd.read_csv('data/Disease_precautions.csv', header= None)"
   ]
  },
  {
   "cell_type": "code",
   "execution_count": 49,
   "metadata": {},
   "outputs": [],
   "source": [
    "dataset.drop(index = 0, axis = 0, inplace = True)"
   ]
  },
  {
   "cell_type": "code",
   "execution_count": 50,
   "metadata": {},
   "outputs": [
    {
     "output_type": "execute_result",
     "data": {
      "text/plain": [
       "                0                                 1  \\\n",
       "1   Drug Reaction                   stop irritation   \n",
       "2         Malaria          Consult nearest hospital   \n",
       "3         Allergy                    apply calamine   \n",
       "4  Hypothyroidism                     reduce stress   \n",
       "5       Psoriasis  wash hands with warm soapy water   \n",
       "\n",
       "                              2                   3  \\\n",
       "1      consult nearest hospital    stop taking drug   \n",
       "2               avoid oily food  avoid non veg food   \n",
       "3       cover area with bandage                 NaN   \n",
       "4                      exercise         eat healthy   \n",
       "5  stop bleeding using pressure      consult doctor   \n",
       "\n",
       "                             4  \n",
       "1                    follow up  \n",
       "2           keep mosquitos out  \n",
       "3  use ice to compress itching  \n",
       "4             get proper sleep  \n",
       "5                   salt baths  "
      ],
      "text/html": "<div>\n<style scoped>\n    .dataframe tbody tr th:only-of-type {\n        vertical-align: middle;\n    }\n\n    .dataframe tbody tr th {\n        vertical-align: top;\n    }\n\n    .dataframe thead th {\n        text-align: right;\n    }\n</style>\n<table border=\"1\" class=\"dataframe\">\n  <thead>\n    <tr style=\"text-align: right;\">\n      <th></th>\n      <th>0</th>\n      <th>1</th>\n      <th>2</th>\n      <th>3</th>\n      <th>4</th>\n    </tr>\n  </thead>\n  <tbody>\n    <tr>\n      <th>1</th>\n      <td>Drug Reaction</td>\n      <td>stop irritation</td>\n      <td>consult nearest hospital</td>\n      <td>stop taking drug</td>\n      <td>follow up</td>\n    </tr>\n    <tr>\n      <th>2</th>\n      <td>Malaria</td>\n      <td>Consult nearest hospital</td>\n      <td>avoid oily food</td>\n      <td>avoid non veg food</td>\n      <td>keep mosquitos out</td>\n    </tr>\n    <tr>\n      <th>3</th>\n      <td>Allergy</td>\n      <td>apply calamine</td>\n      <td>cover area with bandage</td>\n      <td>NaN</td>\n      <td>use ice to compress itching</td>\n    </tr>\n    <tr>\n      <th>4</th>\n      <td>Hypothyroidism</td>\n      <td>reduce stress</td>\n      <td>exercise</td>\n      <td>eat healthy</td>\n      <td>get proper sleep</td>\n    </tr>\n    <tr>\n      <th>5</th>\n      <td>Psoriasis</td>\n      <td>wash hands with warm soapy water</td>\n      <td>stop bleeding using pressure</td>\n      <td>consult doctor</td>\n      <td>salt baths</td>\n    </tr>\n  </tbody>\n</table>\n</div>"
     },
     "metadata": {},
     "execution_count": 50
    }
   ],
   "source": [
    "dataset.head()"
   ]
  },
  {
   "cell_type": "code",
   "execution_count": 52,
   "metadata": {},
   "outputs": [],
   "source": [
    "precautions = dataset.iloc[:, 1:]"
   ]
  },
  {
   "cell_type": "code",
   "execution_count": 53,
   "metadata": {},
   "outputs": [
    {
     "output_type": "execute_result",
     "data": {
      "text/plain": [
       "                                  1                             2  \\\n",
       "1                   stop irritation      consult nearest hospital   \n",
       "2          Consult nearest hospital               avoid oily food   \n",
       "3                    apply calamine       cover area with bandage   \n",
       "4                     reduce stress                      exercise   \n",
       "5  wash hands with warm soapy water  stop bleeding using pressure   \n",
       "\n",
       "                    3                            4  \n",
       "1    stop taking drug                    follow up  \n",
       "2  avoid non veg food           keep mosquitos out  \n",
       "3                 NaN  use ice to compress itching  \n",
       "4         eat healthy             get proper sleep  \n",
       "5      consult doctor                   salt baths  "
      ],
      "text/html": "<div>\n<style scoped>\n    .dataframe tbody tr th:only-of-type {\n        vertical-align: middle;\n    }\n\n    .dataframe tbody tr th {\n        vertical-align: top;\n    }\n\n    .dataframe thead th {\n        text-align: right;\n    }\n</style>\n<table border=\"1\" class=\"dataframe\">\n  <thead>\n    <tr style=\"text-align: right;\">\n      <th></th>\n      <th>1</th>\n      <th>2</th>\n      <th>3</th>\n      <th>4</th>\n    </tr>\n  </thead>\n  <tbody>\n    <tr>\n      <th>1</th>\n      <td>stop irritation</td>\n      <td>consult nearest hospital</td>\n      <td>stop taking drug</td>\n      <td>follow up</td>\n    </tr>\n    <tr>\n      <th>2</th>\n      <td>Consult nearest hospital</td>\n      <td>avoid oily food</td>\n      <td>avoid non veg food</td>\n      <td>keep mosquitos out</td>\n    </tr>\n    <tr>\n      <th>3</th>\n      <td>apply calamine</td>\n      <td>cover area with bandage</td>\n      <td>NaN</td>\n      <td>use ice to compress itching</td>\n    </tr>\n    <tr>\n      <th>4</th>\n      <td>reduce stress</td>\n      <td>exercise</td>\n      <td>eat healthy</td>\n      <td>get proper sleep</td>\n    </tr>\n    <tr>\n      <th>5</th>\n      <td>wash hands with warm soapy water</td>\n      <td>stop bleeding using pressure</td>\n      <td>consult doctor</td>\n      <td>salt baths</td>\n    </tr>\n  </tbody>\n</table>\n</div>"
     },
     "metadata": {},
     "execution_count": 53
    }
   ],
   "source": [
    "precautions.head()"
   ]
  },
  {
   "cell_type": "code",
   "execution_count": 58,
   "metadata": {},
   "outputs": [
    {
     "output_type": "execute_result",
     "data": {
      "text/plain": [
       "array(['stop irritation', 'consult nearest hospital', 'stop taking drug',\n",
       "       'follow up'], dtype=object)"
      ]
     },
     "metadata": {},
     "execution_count": 58
    }
   ],
   "source": [
    "np.array(precautions.iloc[0, :])"
   ]
  }
 ]
}