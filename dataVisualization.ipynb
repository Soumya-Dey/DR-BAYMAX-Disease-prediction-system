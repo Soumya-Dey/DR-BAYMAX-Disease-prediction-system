{
 "metadata": {
  "language_info": {
   "codemirror_mode": {
    "name": "ipython",
    "version": 3
   },
   "file_extension": ".py",
   "mimetype": "text/x-python",
   "name": "python",
   "nbconvert_exporter": "python",
   "pygments_lexer": "ipython3",
   "version": "3.8.5"
  },
  "orig_nbformat": 2,
  "kernelspec": {
   "name": "python385jvsc74a57bd00c8c35d18b2e61e8c6ab986293cb7aa9d3ec55f83c5c24bac5b8ca5ae8e22b5c",
   "display_name": "Python 3.8.5 64-bit ('base': conda)"
  },
  "metadata": {
   "interpreter": {
    "hash": "09892daab35f6bff4abdb4e7cffebaa8d80a02201a6429f45377a760a38a6bba"
   }
  }
 },
 "nbformat": 4,
 "nbformat_minor": 2,
 "cells": [
  {
   "cell_type": "code",
   "execution_count": 1,
   "metadata": {},
   "outputs": [],
   "source": [
    "import pandas as pd\n",
    "import numpy as np"
   ]
  },
  {
   "cell_type": "code",
   "execution_count": 2,
   "metadata": {},
   "outputs": [],
   "source": [
    "data = pd.read_csv(\"./data/formatted_health_data.csv\")"
   ]
  },
  {
   "cell_type": "code",
   "execution_count": 3,
   "metadata": {},
   "outputs": [
    {
     "output_type": "execute_result",
     "data": {
      "text/plain": [
       "   itching   skin_rash   continuous_sneezing   shivering   stomach_pain  \\\n",
       "0        1           1                     0           0              0   \n",
       "1        0           1                     0           0              0   \n",
       "2        1           0                     0           0              0   \n",
       "3        1           1                     0           0              0   \n",
       "4        1           1                     0           0              0   \n",
       "\n",
       "    acidity   vomiting   indigestion   muscle_wasting   patches_in_throat  \\\n",
       "0         0          0             0                0                   0   \n",
       "1         0          0             0                0                   0   \n",
       "2         0          0             0                0                   0   \n",
       "3         0          0             0                0                   0   \n",
       "4         0          0             0                0                   0   \n",
       "\n",
       "   ...   receiving_unsterile_injections   coma   sinus_pressure  \\\n",
       "0  ...                                0      0                0   \n",
       "1  ...                                0      0                0   \n",
       "2  ...                                0      0                0   \n",
       "3  ...                                0      0                0   \n",
       "4  ...                                0      0                0   \n",
       "\n",
       "    palpitations   stomach_bleeding   runny_nose   congestion  \\\n",
       "0              0                  0            0            0   \n",
       "1              0                  0            0            0   \n",
       "2              0                  0            0            0   \n",
       "3              0                  0            0            0   \n",
       "4              0                  0            0            0   \n",
       "\n",
       "    blood_in_sputum   loss_of_smell           disease  \n",
       "0                 0               0  Fungal infection  \n",
       "1                 0               0  Fungal infection  \n",
       "2                 0               0  Fungal infection  \n",
       "3                 0               0  Fungal infection  \n",
       "4                 0               0  Fungal infection  \n",
       "\n",
       "[5 rows x 133 columns]"
      ],
      "text/html": "<div>\n<style scoped>\n    .dataframe tbody tr th:only-of-type {\n        vertical-align: middle;\n    }\n\n    .dataframe tbody tr th {\n        vertical-align: top;\n    }\n\n    .dataframe thead th {\n        text-align: right;\n    }\n</style>\n<table border=\"1\" class=\"dataframe\">\n  <thead>\n    <tr style=\"text-align: right;\">\n      <th></th>\n      <th>itching</th>\n      <th>skin_rash</th>\n      <th>continuous_sneezing</th>\n      <th>shivering</th>\n      <th>stomach_pain</th>\n      <th>acidity</th>\n      <th>vomiting</th>\n      <th>indigestion</th>\n      <th>muscle_wasting</th>\n      <th>patches_in_throat</th>\n      <th>...</th>\n      <th>receiving_unsterile_injections</th>\n      <th>coma</th>\n      <th>sinus_pressure</th>\n      <th>palpitations</th>\n      <th>stomach_bleeding</th>\n      <th>runny_nose</th>\n      <th>congestion</th>\n      <th>blood_in_sputum</th>\n      <th>loss_of_smell</th>\n      <th>disease</th>\n    </tr>\n  </thead>\n  <tbody>\n    <tr>\n      <th>0</th>\n      <td>1</td>\n      <td>1</td>\n      <td>0</td>\n      <td>0</td>\n      <td>0</td>\n      <td>0</td>\n      <td>0</td>\n      <td>0</td>\n      <td>0</td>\n      <td>0</td>\n      <td>...</td>\n      <td>0</td>\n      <td>0</td>\n      <td>0</td>\n      <td>0</td>\n      <td>0</td>\n      <td>0</td>\n      <td>0</td>\n      <td>0</td>\n      <td>0</td>\n      <td>Fungal infection</td>\n    </tr>\n    <tr>\n      <th>1</th>\n      <td>0</td>\n      <td>1</td>\n      <td>0</td>\n      <td>0</td>\n      <td>0</td>\n      <td>0</td>\n      <td>0</td>\n      <td>0</td>\n      <td>0</td>\n      <td>0</td>\n      <td>...</td>\n      <td>0</td>\n      <td>0</td>\n      <td>0</td>\n      <td>0</td>\n      <td>0</td>\n      <td>0</td>\n      <td>0</td>\n      <td>0</td>\n      <td>0</td>\n      <td>Fungal infection</td>\n    </tr>\n    <tr>\n      <th>2</th>\n      <td>1</td>\n      <td>0</td>\n      <td>0</td>\n      <td>0</td>\n      <td>0</td>\n      <td>0</td>\n      <td>0</td>\n      <td>0</td>\n      <td>0</td>\n      <td>0</td>\n      <td>...</td>\n      <td>0</td>\n      <td>0</td>\n      <td>0</td>\n      <td>0</td>\n      <td>0</td>\n      <td>0</td>\n      <td>0</td>\n      <td>0</td>\n      <td>0</td>\n      <td>Fungal infection</td>\n    </tr>\n    <tr>\n      <th>3</th>\n      <td>1</td>\n      <td>1</td>\n      <td>0</td>\n      <td>0</td>\n      <td>0</td>\n      <td>0</td>\n      <td>0</td>\n      <td>0</td>\n      <td>0</td>\n      <td>0</td>\n      <td>...</td>\n      <td>0</td>\n      <td>0</td>\n      <td>0</td>\n      <td>0</td>\n      <td>0</td>\n      <td>0</td>\n      <td>0</td>\n      <td>0</td>\n      <td>0</td>\n      <td>Fungal infection</td>\n    </tr>\n    <tr>\n      <th>4</th>\n      <td>1</td>\n      <td>1</td>\n      <td>0</td>\n      <td>0</td>\n      <td>0</td>\n      <td>0</td>\n      <td>0</td>\n      <td>0</td>\n      <td>0</td>\n      <td>0</td>\n      <td>...</td>\n      <td>0</td>\n      <td>0</td>\n      <td>0</td>\n      <td>0</td>\n      <td>0</td>\n      <td>0</td>\n      <td>0</td>\n      <td>0</td>\n      <td>0</td>\n      <td>Fungal infection</td>\n    </tr>\n  </tbody>\n</table>\n<p>5 rows × 133 columns</p>\n</div>"
     },
     "metadata": {},
     "execution_count": 3
    }
   ],
   "source": [
    "data.drop(columns=['Unnamed: 73'], axis = 1)\n",
    "data.head()"
   ]
  },
  {
   "cell_type": "code",
   "execution_count": 4,
   "metadata": {},
   "outputs": [],
   "source": [
    "for col in data.columns:\n",
    "    data = data.rename(columns={col:col.strip()})"
   ]
  },
  {
   "cell_type": "code",
   "execution_count": 5,
   "metadata": {},
   "outputs": [],
   "source": [
    "from sklearn.model_selection import train_test_split"
   ]
  },
  {
   "cell_type": "code",
   "execution_count": 6,
   "metadata": {},
   "outputs": [],
   "source": [
    "training_data = data.iloc[:, :-1]\n",
    "training_labels = data['disease']"
   ]
  },
  {
   "cell_type": "code",
   "execution_count": 7,
   "metadata": {},
   "outputs": [],
   "source": [
    "train_set, test_set, train_labels, test_labels = train_test_split(training_data, training_labels, random_state =0, test_size= 0.20)"
   ]
  },
  {
   "cell_type": "code",
   "execution_count": 8,
   "metadata": {},
   "outputs": [
    {
     "output_type": "execute_result",
     "data": {
      "text/plain": [
       "Migraine                                    91\n",
       "Hepatitis E                                 98\n",
       "Varicose veins                              92\n",
       "Typhoid                                     95\n",
       "Osteoarthristis                             97\n",
       "Hepatitis D                                 92\n",
       "Hypoglycemia                               107\n",
       "Hepatitis C                                103\n",
       "Jaundice                                    94\n",
       "Bronchial Asthma                            92\n",
       "Malaria                                     95\n",
       "Pneumonia                                   97\n",
       "Allergy                                     97\n",
       "Diabetes                                    98\n",
       "(vertigo) Paroymsal  Positional Vertigo    102\n",
       "Acne                                        89\n",
       "Gastroenteritis                             94\n",
       "Dimorphic hemmorhoids(piles)                93\n",
       "Drug Reaction                               93\n",
       "Tuberculosis                                96\n",
       "Alcoholic hepatitis                         96\n",
       "Hypothyroidism                              97\n",
       "Arthritis                                   97\n",
       "Chronic cholestasis                         99\n",
       "Common Cold                                 86\n",
       "GERD                                        93\n",
       "Chicken pox                                 99\n",
       "Heart attack                                88\n",
       "Fungal infection                            96\n",
       "AIDS                                        98\n",
       "Impetigo                                    95\n",
       "Paralysis (brain hemorrhage)                90\n",
       "Psoriasis                                  102\n",
       "Cervical spondylosis                        93\n",
       "Hepatitis B                                101\n",
       "Peptic ulcer diseae                         96\n",
       "Urinary tract infection                    100\n",
       "hepatitis A                                 96\n",
       "Hypertension                               100\n",
       "Dengue                                     102\n",
       "Hyperthyroidism                             97\n",
       "Name: disease, dtype: int64"
      ]
     },
     "metadata": {},
     "execution_count": 8
    }
   ],
   "source": [
    "train_dist = train_labels.value_counts(sort=False)\n",
    "train_dist"
   ]
  },
  {
   "cell_type": "code",
   "execution_count": 9,
   "metadata": {},
   "outputs": [
    {
     "output_type": "execute_result",
     "data": {
      "text/plain": [
       "Migraine                                   29\n",
       "Impetigo                                   25\n",
       "Varicose veins                             28\n",
       "Typhoid                                    25\n",
       "Osteoarthristis                            23\n",
       "Paralysis (brain hemorrhage)               30\n",
       "Allergy                                    23\n",
       "Hypothyroidism                             23\n",
       "Diabetes                                   22\n",
       "Hepatitis E                                22\n",
       "Arthritis                                  23\n",
       "Psoriasis                                  18\n",
       "(vertigo) Paroymsal  Positional Vertigo    18\n",
       "Cervical spondylosis                       27\n",
       "Hepatitis B                                19\n",
       "Chronic cholestasis                        21\n",
       "Peptic ulcer diseae                        24\n",
       "Acne                                       31\n",
       "Alcoholic hepatitis                        24\n",
       "Gastroenteritis                            26\n",
       "Common Cold                                34\n",
       "GERD                                       27\n",
       "Hypoglycemia                               13\n",
       "Hepatitis D                                28\n",
       "Hyperthyroidism                            23\n",
       "Urinary tract infection                    20\n",
       "Chicken pox                                21\n",
       "Drug Reaction                              27\n",
       "Dimorphic hemmorhoids(piles)               27\n",
       "Heart attack                               32\n",
       "hepatitis A                                24\n",
       "Hepatitis C                                17\n",
       "Hypertension                               20\n",
       "Tuberculosis                               24\n",
       "Fungal infection                           24\n",
       "Jaundice                                   26\n",
       "Dengue                                     18\n",
       "AIDS                                       22\n",
       "Bronchial Asthma                           28\n",
       "Malaria                                    25\n",
       "Pneumonia                                  23\n",
       "Name: disease, dtype: int64"
      ]
     },
     "metadata": {},
     "execution_count": 9
    }
   ],
   "source": [
    "test_dist = test_labels.value_counts(sort=False)\n",
    "test_dist"
   ]
  },
  {
   "cell_type": "code",
   "execution_count": 10,
   "metadata": {},
   "outputs": [],
   "source": [
    "# cols = ['disease']\n",
    "dist_dataframe = pd.DataFrame()"
   ]
  },
  {
   "cell_type": "code",
   "execution_count": 11,
   "metadata": {},
   "outputs": [],
   "source": [
    "dist_dataframe['Training'] = train_dist\n",
    "dist_dataframe['Testing'] = test_dist"
   ]
  },
  {
   "cell_type": "code",
   "execution_count": 12,
   "metadata": {},
   "outputs": [],
   "source": [
    "dist_dataframe = dist_dataframe.sort_index()"
   ]
  },
  {
   "cell_type": "code",
   "execution_count": 13,
   "metadata": {},
   "outputs": [
    {
     "output_type": "execute_result",
     "data": {
      "text/plain": [
       "                                         Training  Testing\n",
       "(vertigo) Paroymsal  Positional Vertigo       102       18\n",
       "AIDS                                           98       22\n",
       "Acne                                           89       31\n",
       "Alcoholic hepatitis                            96       24\n",
       "Allergy                                        97       23"
      ],
      "text/html": "<div>\n<style scoped>\n    .dataframe tbody tr th:only-of-type {\n        vertical-align: middle;\n    }\n\n    .dataframe tbody tr th {\n        vertical-align: top;\n    }\n\n    .dataframe thead th {\n        text-align: right;\n    }\n</style>\n<table border=\"1\" class=\"dataframe\">\n  <thead>\n    <tr style=\"text-align: right;\">\n      <th></th>\n      <th>Training</th>\n      <th>Testing</th>\n    </tr>\n  </thead>\n  <tbody>\n    <tr>\n      <th>(vertigo) Paroymsal  Positional Vertigo</th>\n      <td>102</td>\n      <td>18</td>\n    </tr>\n    <tr>\n      <th>AIDS</th>\n      <td>98</td>\n      <td>22</td>\n    </tr>\n    <tr>\n      <th>Acne</th>\n      <td>89</td>\n      <td>31</td>\n    </tr>\n    <tr>\n      <th>Alcoholic hepatitis</th>\n      <td>96</td>\n      <td>24</td>\n    </tr>\n    <tr>\n      <th>Allergy</th>\n      <td>97</td>\n      <td>23</td>\n    </tr>\n  </tbody>\n</table>\n</div>"
     },
     "metadata": {},
     "execution_count": 13
    }
   ],
   "source": [
    "dist_dataframe.head()"
   ]
  },
  {
   "cell_type": "code",
   "execution_count": 14,
   "metadata": {},
   "outputs": [],
   "source": [
    "dist_dataframe.to_csv('./data/disease_distribution.csv')"
   ]
  }
 ]
}