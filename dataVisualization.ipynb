{
 "metadata": {
  "language_info": {
   "codemirror_mode": {
    "name": "ipython",
    "version": 3
   },
   "file_extension": ".py",
   "mimetype": "text/x-python",
   "name": "python",
   "nbconvert_exporter": "python",
   "pygments_lexer": "ipython3",
   "version": "3.8.5"
  },
  "orig_nbformat": 2,
  "kernelspec": {
   "name": "python385jvsc74a57bd00c8c35d18b2e61e8c6ab986293cb7aa9d3ec55f83c5c24bac5b8ca5ae8e22b5c",
   "display_name": "Python 3.8.5 64-bit ('base': conda)"
  },
  "metadata": {
   "interpreter": {
    "hash": "09892daab35f6bff4abdb4e7cffebaa8d80a02201a6429f45377a760a38a6bba"
   }
  }
 },
 "nbformat": 4,
 "nbformat_minor": 2,
 "cells": [
  {
   "cell_type": "code",
   "execution_count": 1,
   "metadata": {},
   "outputs": [],
   "source": [
    "import pandas as pd\n",
    "import numpy as np"
   ]
  },
  {
   "cell_type": "code",
   "execution_count": 2,
   "metadata": {},
   "outputs": [],
   "source": [
    "data = pd.read_csv(\"./data/formatted_health_data.csv\")"
   ]
  },
  {
   "cell_type": "code",
   "execution_count": 3,
   "metadata": {},
   "outputs": [
    {
     "output_type": "execute_result",
     "data": {
      "text/plain": [
       "   itching   skin_rash   continuous_sneezing   shivering   stomach_pain  \\\n",
       "0        1           1                     0           0              0   \n",
       "1        0           1                     0           0              0   \n",
       "2        1           0                     0           0              0   \n",
       "3        1           1                     0           0              0   \n",
       "4        1           1                     0           0              0   \n",
       "\n",
       "    acidity   vomiting   indigestion   muscle_wasting   patches_in_throat  \\\n",
       "0         0          0             0                0                   0   \n",
       "1         0          0             0                0                   0   \n",
       "2         0          0             0                0                   0   \n",
       "3         0          0             0                0                   0   \n",
       "4         0          0             0                0                   0   \n",
       "\n",
       "   ...   receiving_unsterile_injections   coma   sinus_pressure  \\\n",
       "0  ...                                0      0                0   \n",
       "1  ...                                0      0                0   \n",
       "2  ...                                0      0                0   \n",
       "3  ...                                0      0                0   \n",
       "4  ...                                0      0                0   \n",
       "\n",
       "    palpitations   stomach_bleeding   runny_nose   congestion  \\\n",
       "0              0                  0            0            0   \n",
       "1              0                  0            0            0   \n",
       "2              0                  0            0            0   \n",
       "3              0                  0            0            0   \n",
       "4              0                  0            0            0   \n",
       "\n",
       "    blood_in_sputum   loss_of_smell           disease  \n",
       "0                 0               0  Fungal infection  \n",
       "1                 0               0  Fungal infection  \n",
       "2                 0               0  Fungal infection  \n",
       "3                 0               0  Fungal infection  \n",
       "4                 0               0  Fungal infection  \n",
       "\n",
       "[5 rows x 133 columns]"
      ],
      "text/html": "<div>\n<style scoped>\n    .dataframe tbody tr th:only-of-type {\n        vertical-align: middle;\n    }\n\n    .dataframe tbody tr th {\n        vertical-align: top;\n    }\n\n    .dataframe thead th {\n        text-align: right;\n    }\n</style>\n<table border=\"1\" class=\"dataframe\">\n  <thead>\n    <tr style=\"text-align: right;\">\n      <th></th>\n      <th>itching</th>\n      <th>skin_rash</th>\n      <th>continuous_sneezing</th>\n      <th>shivering</th>\n      <th>stomach_pain</th>\n      <th>acidity</th>\n      <th>vomiting</th>\n      <th>indigestion</th>\n      <th>muscle_wasting</th>\n      <th>patches_in_throat</th>\n      <th>...</th>\n      <th>receiving_unsterile_injections</th>\n      <th>coma</th>\n      <th>sinus_pressure</th>\n      <th>palpitations</th>\n      <th>stomach_bleeding</th>\n      <th>runny_nose</th>\n      <th>congestion</th>\n      <th>blood_in_sputum</th>\n      <th>loss_of_smell</th>\n      <th>disease</th>\n    </tr>\n  </thead>\n  <tbody>\n    <tr>\n      <th>0</th>\n      <td>1</td>\n      <td>1</td>\n      <td>0</td>\n      <td>0</td>\n      <td>0</td>\n      <td>0</td>\n      <td>0</td>\n      <td>0</td>\n      <td>0</td>\n      <td>0</td>\n      <td>...</td>\n      <td>0</td>\n      <td>0</td>\n      <td>0</td>\n      <td>0</td>\n      <td>0</td>\n      <td>0</td>\n      <td>0</td>\n      <td>0</td>\n      <td>0</td>\n      <td>Fungal infection</td>\n    </tr>\n    <tr>\n      <th>1</th>\n      <td>0</td>\n      <td>1</td>\n      <td>0</td>\n      <td>0</td>\n      <td>0</td>\n      <td>0</td>\n      <td>0</td>\n      <td>0</td>\n      <td>0</td>\n      <td>0</td>\n      <td>...</td>\n      <td>0</td>\n      <td>0</td>\n      <td>0</td>\n      <td>0</td>\n      <td>0</td>\n      <td>0</td>\n      <td>0</td>\n      <td>0</td>\n      <td>0</td>\n      <td>Fungal infection</td>\n    </tr>\n    <tr>\n      <th>2</th>\n      <td>1</td>\n      <td>0</td>\n      <td>0</td>\n      <td>0</td>\n      <td>0</td>\n      <td>0</td>\n      <td>0</td>\n      <td>0</td>\n      <td>0</td>\n      <td>0</td>\n      <td>...</td>\n      <td>0</td>\n      <td>0</td>\n      <td>0</td>\n      <td>0</td>\n      <td>0</td>\n      <td>0</td>\n      <td>0</td>\n      <td>0</td>\n      <td>0</td>\n      <td>Fungal infection</td>\n    </tr>\n    <tr>\n      <th>3</th>\n      <td>1</td>\n      <td>1</td>\n      <td>0</td>\n      <td>0</td>\n      <td>0</td>\n      <td>0</td>\n      <td>0</td>\n      <td>0</td>\n      <td>0</td>\n      <td>0</td>\n      <td>...</td>\n      <td>0</td>\n      <td>0</td>\n      <td>0</td>\n      <td>0</td>\n      <td>0</td>\n      <td>0</td>\n      <td>0</td>\n      <td>0</td>\n      <td>0</td>\n      <td>Fungal infection</td>\n    </tr>\n    <tr>\n      <th>4</th>\n      <td>1</td>\n      <td>1</td>\n      <td>0</td>\n      <td>0</td>\n      <td>0</td>\n      <td>0</td>\n      <td>0</td>\n      <td>0</td>\n      <td>0</td>\n      <td>0</td>\n      <td>...</td>\n      <td>0</td>\n      <td>0</td>\n      <td>0</td>\n      <td>0</td>\n      <td>0</td>\n      <td>0</td>\n      <td>0</td>\n      <td>0</td>\n      <td>0</td>\n      <td>Fungal infection</td>\n    </tr>\n  </tbody>\n</table>\n<p>5 rows × 133 columns</p>\n</div>"
     },
     "metadata": {},
     "execution_count": 3
    }
   ],
   "source": [
    "data.drop(columns=['Unnamed: 73'], axis = 1)\n",
    "data.head()"
   ]
  },
  {
   "cell_type": "code",
   "execution_count": 4,
   "metadata": {},
   "outputs": [],
   "source": [
    "for col in data.columns:\n",
    "    data = data.rename(columns={col:col.strip()})"
   ]
  },
  {
   "cell_type": "code",
   "execution_count": 5,
   "metadata": {},
   "outputs": [],
   "source": [
    "from sklearn.model_selection import train_test_split"
   ]
  },
  {
   "cell_type": "code",
   "execution_count": 6,
   "metadata": {},
   "outputs": [],
   "source": [
    "training_data = data.iloc[:, :-1]\n",
    "training_labels = data['disease']"
   ]
  },
  {
   "cell_type": "code",
   "execution_count": 7,
   "metadata": {},
   "outputs": [],
   "source": [
    "train_set, test_set, train_labels, test_labels = train_test_split(training_data, training_labels, random_state =0, test_size= 0.30)"
   ]
  },
  {
   "cell_type": "code",
   "execution_count": 14,
   "metadata": {},
   "outputs": [
    {
     "output_type": "execute_result",
     "data": {
      "text/plain": [
       "Heart attack                               71\n",
       "Jaundice                                   84\n",
       "Cervical spondylosis                       79\n",
       "Peptic ulcer diseae                        82\n",
       "Gastroenteritis                            84\n",
       "Hepatitis D                                79\n",
       "Chicken pox                                87\n",
       "hepatitis A                                82\n",
       "Hepatitis B                                89\n",
       "Chronic cholestasis                        85\n",
       "Hepatitis C                                88\n",
       "Hypertension                               85\n",
       "Fungal infection                           89\n",
       "Alcoholic hepatitis                        86\n",
       "Pneumonia                                  86\n",
       "Common Cold                                78\n",
       "Tuberculosis                               83\n",
       "Dimorphic hemmorhoids(piles)               80\n",
       "Migraine                                   78\n",
       "Hypothyroidism                             87\n",
       "Hepatitis E                                83\n",
       "Allergy                                    87\n",
       "Diabetes                                   87\n",
       "Hypoglycemia                               99\n",
       "Psoriasis                                  89\n",
       "Hyperthyroidism                            86\n",
       "Urinary tract infection                    84\n",
       "Acne                                       82\n",
       "Dengue                                     93\n",
       "GERD                                       78\n",
       "Varicose veins                             82\n",
       "AIDS                                       89\n",
       "Paralysis (brain hemorrhage)               79\n",
       "Drug Reaction                              80\n",
       "(vertigo) Paroymsal  Positional Vertigo    88\n",
       "Malaria                                    89\n",
       "Arthritis                                  84\n",
       "Impetigo                                   81\n",
       "Bronchial Asthma                           81\n",
       "Typhoid                                    78\n",
       "Osteoarthristis                            83\n",
       "Name: disease, dtype: int64"
      ]
     },
     "metadata": {},
     "execution_count": 14
    }
   ],
   "source": [
    "train_dist = train_labels.value_counts(sort=False)\n",
    "train_dist"
   ]
  },
  {
   "cell_type": "code",
   "execution_count": 15,
   "metadata": {},
   "outputs": [
    {
     "output_type": "execute_result",
     "data": {
      "text/plain": [
       "Heart attack                               49\n",
       "Jaundice                                   36\n",
       "Urinary tract infection                    36\n",
       "Cervical spondylosis                       41\n",
       "Acne                                       38\n",
       "Peptic ulcer diseae                        38\n",
       "Gastroenteritis                            36\n",
       "Hepatitis D                                41\n",
       "Dengue                                     27\n",
       "Chicken pox                                33\n",
       "hepatitis A                                38\n",
       "Hepatitis B                                31\n",
       "Chronic cholestasis                        35\n",
       "Hepatitis C                                32\n",
       "Hypertension                               35\n",
       "GERD                                       42\n",
       "Varicose veins                             38\n",
       "Fungal infection                           31\n",
       "AIDS                                       31\n",
       "Allergy                                    33\n",
       "Alcoholic hepatitis                        34\n",
       "Pneumonia                                  34\n",
       "Common Cold                                42\n",
       "Paralysis (brain hemorrhage)               41\n",
       "Tuberculosis                               37\n",
       "Dimorphic hemmorhoids(piles)               40\n",
       "Migraine                                   42\n",
       "Hypothyroidism                             33\n",
       "Drug Reaction                              40\n",
       "(vertigo) Paroymsal  Positional Vertigo    32\n",
       "Hepatitis E                                37\n",
       "Malaria                                    31\n",
       "Arthritis                                  36\n",
       "Impetigo                                   39\n",
       "Diabetes                                   33\n",
       "Bronchial Asthma                           39\n",
       "Hypoglycemia                               21\n",
       "Psoriasis                                  31\n",
       "Typhoid                                    42\n",
       "Hyperthyroidism                            34\n",
       "Osteoarthristis                            37\n",
       "Name: disease, dtype: int64"
      ]
     },
     "metadata": {},
     "execution_count": 15
    }
   ],
   "source": [
    "test_dist = test_labels.value_counts(sort=False)\n",
    "test_dist"
   ]
  },
  {
   "cell_type": "code",
   "execution_count": 16,
   "metadata": {},
   "outputs": [],
   "source": [
    "# cols = ['disease']\n",
    "dist_dataframe = pd.DataFrame()"
   ]
  },
  {
   "cell_type": "code",
   "execution_count": 17,
   "metadata": {},
   "outputs": [],
   "source": [
    "dist_dataframe['Training'] = train_dist\n",
    "dist_dataframe['Testing'] = test_dist"
   ]
  },
  {
   "cell_type": "code",
   "execution_count": 19,
   "metadata": {},
   "outputs": [],
   "source": [
    "dist_dataframe = dist_dataframe.sort_index()"
   ]
  },
  {
   "cell_type": "code",
   "execution_count": 20,
   "metadata": {},
   "outputs": [
    {
     "output_type": "execute_result",
     "data": {
      "text/plain": [
       "                                         Training  Testing\n",
       "(vertigo) Paroymsal  Positional Vertigo        88       32\n",
       "AIDS                                           89       31\n",
       "Acne                                           82       38\n",
       "Alcoholic hepatitis                            86       34\n",
       "Allergy                                        87       33"
      ],
      "text/html": "<div>\n<style scoped>\n    .dataframe tbody tr th:only-of-type {\n        vertical-align: middle;\n    }\n\n    .dataframe tbody tr th {\n        vertical-align: top;\n    }\n\n    .dataframe thead th {\n        text-align: right;\n    }\n</style>\n<table border=\"1\" class=\"dataframe\">\n  <thead>\n    <tr style=\"text-align: right;\">\n      <th></th>\n      <th>Training</th>\n      <th>Testing</th>\n    </tr>\n  </thead>\n  <tbody>\n    <tr>\n      <th>(vertigo) Paroymsal  Positional Vertigo</th>\n      <td>88</td>\n      <td>32</td>\n    </tr>\n    <tr>\n      <th>AIDS</th>\n      <td>89</td>\n      <td>31</td>\n    </tr>\n    <tr>\n      <th>Acne</th>\n      <td>82</td>\n      <td>38</td>\n    </tr>\n    <tr>\n      <th>Alcoholic hepatitis</th>\n      <td>86</td>\n      <td>34</td>\n    </tr>\n    <tr>\n      <th>Allergy</th>\n      <td>87</td>\n      <td>33</td>\n    </tr>\n  </tbody>\n</table>\n</div>"
     },
     "metadata": {},
     "execution_count": 20
    }
   ],
   "source": [
    "dist_dataframe.head()"
   ]
  },
  {
   "cell_type": "code",
   "execution_count": 21,
   "metadata": {},
   "outputs": [],
   "source": [
    "dist_dataframe.to_csv('./data/disease_distribution.csv')"
   ]
  }
 ]
}